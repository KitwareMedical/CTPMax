{
 "cells": [
  {
   "cell_type": "code",
   "execution_count": 8,
   "metadata": {},
   "outputs": [
    {
     "name": "stdout",
     "output_type": "stream",
     "text": [
      "10-VPCT-DynMulti4D-1.5-H20f-5.nrrd\n",
      "11-VPCT-DynMulti4D-1.5-H20f-6.nrrd\n",
      "12-VPCT-DynMulti4D-1.5-H20f-7.nrrd\n",
      "13-VPCT-DynMulti4D-1.5-H20f-8.nrrd\n",
      "14-VPCT-DynMulti4D-1.5-H20f-9.nrrd\n",
      "15-VPCT-DynMulti4D-1.5-H20f-10.nrrd\n",
      "16-VPCT-DynMulti4D-1.5-H20f-11.nrrd\n",
      "17-VPCT-DynMulti4D-1.5-H20f-12.nrrd\n",
      "18-VPCT-DynMulti4D-1.5-H20f-13.nrrd\n",
      "19-VPCT-DynMulti4D-1.5-H20f-14.nrrd\n",
      "20-VPCT-DynMulti4D-1.5-H20f-15.nrrd\n",
      "21-VPCT-DynMulti4D-1.5-H20f-16.nrrd\n",
      "22-VPCT-DynMulti4D-1.5-H20f-17.nrrd\n",
      "23-VPCT-DynMulti4D-1.5-H20f-18.nrrd\n",
      "24-VPCT-DynMulti4D-1.5-H20f-19.nrrd\n",
      "25-VPCT-DynMulti4D-1.5-H20f-20.nrrd\n",
      "26-VPCT-DynMulti4D-1.5-H20f-21.nrrd\n",
      "27-VPCT-DynMulti4D-1.5-H20f-22.nrrd\n",
      "28-VPCT-DynMulti4D-1.5-H20f-23.nrrd\n",
      "29-VPCT-DynMulti4D-1.5-H20f-24.nrrd\n",
      "30-VPCT-DynMulti4D-1.5-H20f-25.nrrd\n",
      "31-VPCT-DynMulti4D-1.5-H20f-26.nrrd\n",
      "32-VPCT-DynMulti4D-1.5-H20f-27.nrrd\n",
      "33-VPCT-DynMulti4D-1.5-H20f-28.nrrd\n",
      "34-VPCT-DynMulti4D-1.5-H20f-29.nrrd\n",
      "35-VPCT-DynMulti4D-1.5-H20f-30.nrrd\n",
      "6-VPCT-DynMulti4D-1.5-H20f-1.nrrd\n",
      "7-VPCT-DynMulti4D-1.5-H20f-2.nrrd\n",
      "8-VPCT-DynMulti4D-1.5-H20f-3.nrrd\n",
      "9-VPCT-DynMulti4D-1.5-H20f-4.nrrd\n"
     ]
    }
   ],
   "source": [
    "import os\n",
    "directory = '/home/will.dolan/Desktop/Jupyter/CTAandCTP/NRRD-Files/CTAT-002/'\n",
    "num_images = os.listdir( directory )\n",
    "num_imageslen = len(num_images)\n",
    "num_images.sort()\n",
    "for image in range(num_imageslen):\n",
    "    original = num_images[image]\n",
    "    num_images[image] = num_images[image].replace('  ', ' ')\n",
    "    num_images[image] = num_images[image].replace(' ', '-')\n",
    "    print(num_images[image])\n",
    "    os.rename(directory + original, directory + num_images[image])"
   ]
  },
  {
   "cell_type": "code",
   "execution_count": null,
   "metadata": {},
   "outputs": [],
   "source": []
  }
 ],
 "metadata": {
  "kernelspec": {
   "display_name": "Python 3",
   "language": "python",
   "name": "python3"
  },
  "language_info": {
   "codemirror_mode": {
    "name": "ipython",
    "version": 3
   },
   "file_extension": ".py",
   "mimetype": "text/x-python",
   "name": "python",
   "nbconvert_exporter": "python",
   "pygments_lexer": "ipython3",
   "version": "3.6.7"
  }
 },
 "nbformat": 4,
 "nbformat_minor": 2
}
