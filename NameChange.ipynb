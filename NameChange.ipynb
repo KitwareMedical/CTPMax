{
 "cells": [
  {
   "cell_type": "code",
   "execution_count": 2,
   "metadata": {},
   "outputs": [
    {
     "name": "stdout",
     "output_type": "stream",
     "text": [
      "Done\n"
     ]
    }
   ],
   "source": [
    "# For folder with files\n",
    "import os\n",
    "cwd = os.getcwd()\n",
    "\n",
    "directory = cwd + '/NRRD-Files/CC012-CTP-Frames/'\n",
    "num_files = os.listdir(directory)\n",
    "\n",
    "for file in range(len(num_files)):\n",
    "    original = num_files[file]\n",
    "    num_files[file] = num_files[file].replace('   ', '-')\n",
    "    num_files[file] = num_files[file].replace('  ', '-')\n",
    "    num_files[file] = num_files[file].replace(' ', '-')\n",
    "    os.rename(directory + original, directory + num_files[file])\n",
    "    \n",
    "print('Done')"
   ]
  },
  {
   "cell_type": "code",
   "execution_count": 13,
   "metadata": {},
   "outputs": [
    {
     "name": "stdout",
     "output_type": "stream",
     "text": [
      "Done\n"
     ]
    }
   ],
   "source": [
    "# For multiple folders with files\n",
    "import os\n",
    "cwd = os.getcwd()\n",
    "\n",
    "directory = cwd + '/NRRD-Files/TestingData/'\n",
    "\n",
    "num_folders = os.listdir(directory)\n",
    "\n",
    "for folder in range(len(num_folders)):\n",
    "    num_files = os.listdir(directory + num_folders[folder])\n",
    "    for file in range(len(num_files)):\n",
    "        original = num_images[image]\n",
    "        num_files[file] = num_files[file].replace('   ', '-')\n",
    "        num_files[file] = num_files[file].replace('  ', '-')\n",
    "        num_files[file] = num_files[file].replace(' ', '-')\n",
    "        os.rename(directory + num_folders[folder] + '/' + original, directory + num_folders[folder]+ '/' + num_files[file])\n",
    "\n",
    "print('Done')"
   ]
  },
  {
   "cell_type": "code",
   "execution_count": 18,
   "metadata": {},
   "outputs": [
    {
     "name": "stdout",
     "output_type": "stream",
     "text": [
      "Done\n"
     ]
    }
   ],
   "source": [
    "# Reverse, in case multiple hyphens e.g. ' - ' -> '---'\n",
    "import os\n",
    "cwd = os.getcwd()\n",
    "\n",
    "directory = cwd + '/NRRD-Files/CC012-CTP-Frames/'\n",
    "\n",
    "num_files = os.listdir(directory)\n",
    "\n",
    "for file in range(len(num_files)):\n",
    "    original = num_files[file]\n",
    "    num_files[file] = num_files[file].replace('---', ' ')\n",
    "    num_files[file] = num_files[file].replace('--', ' ')\n",
    "    num_files[file] = num_files[file].replace('-', ' ')\n",
    "    os.rename(directory + original, directory + num_files[file])\n",
    "    \n",
    "print('Done')"
   ]
  },
  {
   "cell_type": "code",
   "execution_count": null,
   "metadata": {},
   "outputs": [],
   "source": []
  }
 ],
 "metadata": {
  "kernelspec": {
   "display_name": "Python 3",
   "language": "python",
   "name": "python3"
  },
  "language_info": {
   "codemirror_mode": {
    "name": "ipython",
    "version": 3
   },
   "file_extension": ".py",
   "mimetype": "text/x-python",
   "name": "python",
   "nbconvert_exporter": "python",
   "pygments_lexer": "ipython3",
   "version": "3.6.7"
  }
 },
 "nbformat": 4,
 "nbformat_minor": 2
}
