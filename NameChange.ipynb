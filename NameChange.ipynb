{
 "cells": [
  {
   "cell_type": "code",
   "execution_count": 15,
   "metadata": {},
   "outputs": [
    {
     "name": "stdout",
     "output_type": "stream",
     "text": [
      "Done\n"
     ]
    }
   ],
   "source": [
    "# For folder with files\n",
    "import os\n",
    "\n",
    "directory = '/home/will.dolan/Desktop/Jupyter/CTAandCTP/NRRD-Files/TestingData/'\n",
    "num_files = os.listdir(directory)\n",
    "\n",
    "for file in range(len(num_files)):\n",
    "    original = num_files[file]\n",
    "    num_files[file] = num_files[file].replace('   ', '-')\n",
    "    num_files[file] = num_files[file].replace('  ', '-')\n",
    "    num_files[file] = num_files[file].replace(' ', '-')\n",
    "    os.rename(directory + original, directory + num_files[file])\n",
    "    \n",
    "print('Done')"
   ]
  },
  {
   "cell_type": "code",
   "execution_count": 13,
   "metadata": {},
   "outputs": [
    {
     "name": "stdout",
     "output_type": "stream",
     "text": [
      "Done\n"
     ]
    }
   ],
   "source": [
    "# For multiple folders with files\n",
    "import os\n",
    "\n",
    "directory = '/home/will.dolan/Desktop/Jupyter/CTAandCTP/NRRD-Files/TestingData/'\n",
    "num_folders = os.listdir(directory)\n",
    "\n",
    "for folder in range(len(num_folders)):\n",
    "    num_files = os.listdir(directory + num_folders[folder])\n",
    "    for file in range(len(num_files)):\n",
    "        original = num_images[image]\n",
    "        num_files[file] = num_files[file].replace('   ', '-')\n",
    "        num_files[file] = num_files[file].replace('  ', '-')\n",
    "        num_files[file] = num_files[file].replace(' ', '-')\n",
    "        os.rename(directory + num_folders[folder] + '/' + original, directory + num_folders[folder]+ '/' + num_files[file])\n",
    "\n",
    "print('Done')"
   ]
  },
  {
   "cell_type": "code",
   "execution_count": 17,
   "metadata": {},
   "outputs": [
    {
     "name": "stdout",
     "output_type": "stream",
     "text": [
      "VPCT Volume perf 4D 5.0 H20f as a 39 frames MultiVolume by ImagePositionPatientAcquisitionTime copied frame 14.nrrd\n",
      "VPCT Volume perf 4D 5.0 H20f as a 39 frames MultiVolume by ImagePositionPatientAcquisitionTime copied frame 13.nrrd\n",
      "VPCT Volume perf 4D 5.0 H20f as a 39 frames MultiVolume by ImagePositionPatientAcquisitionTime copied frame 9.nrrd\n",
      "VPCT Volume perf 4D 5.0 H20f as a 39 frames MultiVolume by ImagePositionPatientAcquisitionTime copied frame 6.nrrd\n",
      "VPCT Volume perf 4D 5.0 H20f as a 39 frames MultiVolume by ImagePositionPatientAcquisitionTime copied frame 34.nrrd\n",
      "VPCT Volume perf 4D 5.0 H20f as a 39 frames MultiVolume by ImagePositionPatientAcquisitionTime copied frame 36.nrrd\n",
      "VPCT Volume perf 4D 5.0 H20f as a 39 frames MultiVolume by ImagePositionPatientAcquisitionTime copied frame 24.nrrd\n",
      "VPCT Volume perf 4D 5.0 H20f as a 39 frames MultiVolume by ImagePositionPatientAcquisitionTime copied frame 18.nrrd\n",
      "VPCT Volume perf 4D 5.0 H20f as a 39 frames MultiVolume by ImagePositionPatientAcquisitionTime copied frame 20.nrrd\n",
      "VPCT Volume perf 4D 5.0 H20f as a 39 frames MultiVolume by ImagePositionPatientAcquisitionTime copied frame 22.nrrd\n",
      "VPCT Volume perf 4D 5.0 H20f as a 39 frames MultiVolume by ImagePositionPatientAcquisitionTime copied frame 7.nrrd\n",
      "VPCT Volume perf 4D 5.0 H20f as a 39 frames MultiVolume by ImagePositionPatientAcquisitionTime copied frame 27.nrrd\n",
      "VPCT Volume perf 4D 5.0 H20f as a 39 frames MultiVolume by ImagePositionPatientAcquisitionTime copied frame 28.nrrd\n",
      "VPCT Volume perf 4D 5.0 H20f as a 39 frames MultiVolume by ImagePositionPatientAcquisitionTime copied frame 1.nrrd\n",
      "VPCT Volume perf 4D 5.0 H20f as a 39 frames MultiVolume by ImagePositionPatientAcquisitionTime copied frame 3.nrrd\n",
      "VPCT Volume perf 4D 5.0 H20f as a 39 frames MultiVolume by ImagePositionPatientAcquisitionTime copied frame 31.nrrd\n",
      "VPCT Volume perf 4D 5.0 H20f as a 39 frames MultiVolume by ImagePositionPatientAcquisitionTime copied frame 2.nrrd\n",
      "VPCT Volume perf 4D 5.0 H20f as a 39 frames MultiVolume by ImagePositionPatientAcquisitionTime copied frame 29.nrrd\n",
      "VPCT Volume perf 4D 5.0 H20f as a 39 frames MultiVolume by ImagePositionPatientAcquisitionTime copied frame 5.nrrd\n",
      "VPCT Volume perf 4D 5.0 H20f as a 39 frames MultiVolume by ImagePositionPatientAcquisitionTime copied frame 30.nrrd\n",
      "VPCT Volume perf 4D 5.0 H20f as a 39 frames MultiVolume by ImagePositionPatientAcquisitionTime copied frame 19.nrrd\n",
      "VPCT Volume perf 4D 5.0 H20f as a 39 frames MultiVolume by ImagePositionPatientAcquisitionTime copied frame 25.nrrd\n",
      "VPCT Volume perf 4D 5.0 H20f as a 39 frames MultiVolume by ImagePositionPatientAcquisitionTime copied frame 12.nrrd\n",
      "VPCT Volume perf 4D 5.0 H20f as a 39 frames MultiVolume by ImagePositionPatientAcquisitionTime copied frame 38.nrrd\n",
      "VPCT Volume perf 4D 5.0 H20f as a 39 frames MultiVolume by ImagePositionPatientAcquisitionTime copied frame 4.nrrd\n",
      "VPCT Volume perf 4D 5.0 H20f as a 39 frames MultiVolume by ImagePositionPatientAcquisitionTime copied frame 17.nrrd\n",
      "VPCT Volume perf 4D 5.0 H20f as a 39 frames MultiVolume by ImagePositionPatientAcquisitionTime copied frame 21.nrrd\n",
      "VPCT Volume perf 4D 5.0 H20f as a 39 frames MultiVolume by ImagePositionPatientAcquisitionTime copied frame 11.nrrd\n",
      "VPCT Volume perf 4D 5.0 H20f as a 39 frames MultiVolume by ImagePositionPatientAcquisitionTime copied frame 8.nrrd\n",
      "VPCT Volume perf 4D 5.0 H20f as a 39 frames MultiVolume by ImagePositionPatientAcquisitionTime copied frame 26.nrrd\n",
      "VPCT Volume perf 4D 5.0 H20f as a 39 frames MultiVolume by ImagePositionPatientAcquisitionTime copied frame 33.nrrd\n",
      "VPCT Volume perf 4D 5.0 H20f as a 39 frames MultiVolume by ImagePositionPatientAcquisitionTime copied frame 16.nrrd\n",
      "VPCT Volume perf 4D 5.0 H20f as a 39 frames MultiVolume by ImagePositionPatientAcquisitionTime copied frame 10.nrrd\n",
      "VPCT Volume perf 4D 5.0 H20f as a 39 frames MultiVolume by ImagePositionPatientAcquisitionTime copied frame 23.nrrd\n",
      "VPCT Volume perf 4D 5.0 H20f as a 39 frames MultiVolume by ImagePositionPatientAcquisitionTime copied frame 0.nrrd\n",
      "VPCT Volume perf 4D 5.0 H20f as a 39 frames MultiVolume by ImagePositionPatientAcquisitionTime copied frame 37.nrrd\n",
      "VPCT Volume perf 4D 5.0 H20f as a 39 frames MultiVolume by ImagePositionPatientAcquisitionTime copied frame 35.nrrd\n",
      "VPCT Volume perf 4D 5.0 H20f as a 39 frames MultiVolume by ImagePositionPatientAcquisitionTime copied frame 32.nrrd\n",
      "VPCT Volume perf 4D 5.0 H20f as a 39 frames MultiVolume by ImagePositionPatientAcquisitionTime copied frame 15.nrrd\n",
      "Done\n"
     ]
    }
   ],
   "source": [
    "# Reverse, in case multiple hyphens e.g. ' - ' -> '---'\n",
    "import os\n",
    "\n",
    "directory = '/home/will.dolan/Desktop/Jupyter/CTAandCTP/NRRD-Files/CC012-CTP-Frames/'\n",
    "num_files = os.listdir(directory)\n",
    "\n",
    "for file in range(len(num_files)):\n",
    "    original = num_files[file]\n",
    "    num_files[file] = num_files[file].replace('---', ' ')\n",
    "    num_files[file] = num_files[file].replace('--', ' ')\n",
    "    num_files[file] = num_files[file].replace('-', ' ')\n",
    "    os.rename(directory + original, directory + num_files[file])\n",
    "    \n",
    "print('Done')"
   ]
  },
  {
   "cell_type": "code",
   "execution_count": null,
   "metadata": {},
   "outputs": [],
   "source": []
  }
 ],
 "metadata": {
  "kernelspec": {
   "display_name": "Python 3",
   "language": "python",
   "name": "python3"
  },
  "language_info": {
   "codemirror_mode": {
    "name": "ipython",
    "version": 3
   },
   "file_extension": ".py",
   "mimetype": "text/x-python",
   "name": "python",
   "nbconvert_exporter": "python",
   "pygments_lexer": "ipython3",
   "version": "3.6.7"
  }
 },
 "nbformat": 4,
 "nbformat_minor": 2
}
