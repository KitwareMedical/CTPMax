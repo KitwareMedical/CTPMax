{
 "cells": [
  {
   "cell_type": "code",
   "execution_count": 1,
   "metadata": {},
   "outputs": [],
   "source": [
    "import numpy as np\n",
    "import sys\n",
    "import itk\n",
    "import os\n"
   ]
  },
  {
   "cell_type": "code",
   "execution_count": 4,
   "metadata": {},
   "outputs": [
    {
     "name": "stdout",
     "output_type": "stream",
     "text": [
      "10-VPCT-DynMulti4D-1.5-H20f-8.nrrd\n",
      "11-VPCT-DynMulti4D-1.5-H20f-9.nrrd\n",
      "12-VPCT-DynMulti4D-1.5-H20f-10.nrrd\n",
      "13-VPCT-DynMulti4D-1.5-H20f-11.nrrd\n",
      "14-VPCT-DynMulti4D-1.5-H20f-12.nrrd\n",
      "15-VPCT-DynMulti4D-1.5-H20f-13.nrrd\n",
      "16-VPCT-DynMulti4D-1.5-H20f-14.nrrd\n",
      "17-VPCT-DynMulti4D-1.5-H20f-15.nrrd\n",
      "18-VPCT-DynMulti4D-1.5-H20f-16.nrrd\n",
      "19-VPCT-DynMulti4D-1.5-H20f-17.nrrd\n",
      "20-VPCT-DynMulti4D-1.5-H20f-18.nrrd\n",
      "21-VPCT-DynMulti4D-1.5-H20f-19.nrrd\n",
      "22-VPCT-DynMulti4D-1.5-H20f-20.nrrd\n",
      "23-VPCT-DynMulti4D-1.5-H20f-21.nrrd\n",
      "24-VPCT-DynMulti4D-1.5-H20f-22.nrrd\n",
      "25-VPCT-DynMulti4D-1.5-H20f-23.nrrd\n",
      "26-VPCT-DynMulti4D-1.5-H20f-24.nrrd\n",
      "27-VPCT-DynMulti4D-1.5-H20f-25.nrrd\n",
      "28-VPCT-DynMulti4D-1.5-H20f-26.nrrd\n",
      "29-VPCT-DynMulti4D-1.5-H20f-27.nrrd\n",
      "3-VPCT-DynMulti4D-1.5-H20f-1.nrrd\n",
      "30-VPCT-DynMulti4D-1.5-H20f-28.nrrd\n",
      "31-VPCT-DynMulti4D-1.5-H20f-29.nrrd\n",
      "32-VPCT-DynMulti4D-1.5-H20f-30.nrrd\n",
      "4-VPCT-DynMulti4D-1.5-H20f-2.nrrd\n",
      "5-VPCT-DynMulti4D-1.5-H20f-3.nrrd\n",
      "6-VPCT-DynMulti4D-1.5-H20f-4.nrrd\n",
      "7-VPCT-DynMulti4D-1.5-H20f-5.nrrd\n",
      "8-VPCT-DynMulti4D-1.5-H20f-6.nrrd\n",
      "9-VPCT-DynMulti4D-1.5-H20f-7.nrrd\n"
     ]
    }
   ],
   "source": [
    "# Location of NRRD Files\n",
    "directory = '/home/will.dolan/Desktop/Jupyter/CTAandCTP/NRRD-Files/CTAT-006/'\n",
    "\n",
    "pic_folder = directory\n",
    "pic_folder = os.listdir(pic_folder)\n",
    "\n",
    "Dimension = 3\n",
    "PixelType = itk.ctype('float')\n",
    "ImageType = itk.Image[PixelType, Dimension]\n",
    "\n",
    "\n",
    "\n",
    "out = ImageType.New()\n",
    "\n",
    "start = itk.Index[Dimension]()\n",
    "start[0] = 0  \n",
    "start[1] = 0  \n",
    "start[2] = 0  \n",
    "\n",
    "pic_folder.sort()\n",
    "\n",
    "# Fixed Image\n",
    "img0 = itk.imread(directory + pic_folder[0])\n",
    "\n",
    "size = itk.Size[Dimension]()\n",
    "size[0] = itk.size(img0)[0]\n",
    "size[1] = itk.size(img0)[1]\n",
    "size[2] = itk.size(img0)[2]\n",
    "\n",
    "num_images = len(pic_folder)\n",
    "imgdatasize = np.zeros(4, dtype=int)\n",
    "imgdatasize[0] = num_images\n",
    "imgdatasize[1] = size[2]\n",
    "imgdatasize[2] = size[1]\n",
    "imgdatasize[3] = size[0]\n",
    "imgdata = np.zeros(imgdatasize)\n",
    "imgdata.shape\n",
    "        \n",
    "for image in range(num_images): \n",
    "    img = itk.imread(directory + pic_folder[image])\n",
    "    imgdata[image,:,:,:] = itk.GetArrayFromImage(img)\n",
    "\n",
    "\n",
    "    print(pic_folder[image])\n"
   ]
  },
  {
   "cell_type": "code",
   "execution_count": 6,
   "metadata": {
    "scrolled": false
   },
   "outputs": [],
   "source": [
    "outdata = imgdata.max(0).astype('h')\n",
    "\n",
    "out = itk.GetImageFromArray(outdata)\n",
    "out.CopyInformation(img0)\n",
    "final = itk.imwrite(out, '/home/will.dolan/Desktop/Jupyter/CTAandCTP/Composites/CTAT-006_MaxNoRegistration.nrrd')\n"
   ]
  },
  {
   "cell_type": "code",
   "execution_count": null,
   "metadata": {},
   "outputs": [],
   "source": []
  },
  {
   "cell_type": "code",
   "execution_count": null,
   "metadata": {},
   "outputs": [],
   "source": []
  },
  {
   "cell_type": "code",
   "execution_count": null,
   "metadata": {},
   "outputs": [],
   "source": []
  },
  {
   "cell_type": "code",
   "execution_count": null,
   "metadata": {},
   "outputs": [],
   "source": []
  },
  {
   "cell_type": "code",
   "execution_count": null,
   "metadata": {},
   "outputs": [],
   "source": []
  },
  {
   "cell_type": "code",
   "execution_count": null,
   "metadata": {},
   "outputs": [],
   "source": []
  },
  {
   "cell_type": "code",
   "execution_count": null,
   "metadata": {},
   "outputs": [],
   "source": []
  }
 ],
 "metadata": {
  "kernelspec": {
   "display_name": "Python 3",
   "language": "python",
   "name": "python3"
  },
  "language_info": {
   "codemirror_mode": {
    "name": "ipython",
    "version": 3
   },
   "file_extension": ".py",
   "mimetype": "text/x-python",
   "name": "python",
   "nbconvert_exporter": "python",
   "pygments_lexer": "ipython3",
   "version": "3.6.7"
  }
 },
 "nbformat": 4,
 "nbformat_minor": 2
}
