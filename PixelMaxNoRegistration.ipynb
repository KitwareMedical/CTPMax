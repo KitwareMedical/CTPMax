{
 "cells": [
  {
   "cell_type": "code",
   "execution_count": 2,
   "metadata": {},
   "outputs": [
    {
     "data": {
      "text/plain": [
       "'/home/will.dolan/Desktop/CTAandCTP'"
      ]
     },
     "execution_count": 2,
     "metadata": {},
     "output_type": "execute_result"
    }
   ],
   "source": [
    "import numpy as np\n",
    "import sys\n",
    "import itk\n",
    "import os\n",
    "\n",
    "cwd = os.getcwd()\n",
    "cwd"
   ]
  },
  {
   "cell_type": "code",
   "execution_count": 3,
   "metadata": {},
   "outputs": [
    {
     "name": "stdout",
     "output_type": "stream",
     "text": [
      "3%\n",
      "7%\n",
      "10%\n",
      "13%\n",
      "17%\n",
      "20%\n",
      "23%\n",
      "27%\n",
      "30%\n",
      "33%\n",
      "37%\n",
      "40%\n",
      "43%\n",
      "47%\n",
      "50%\n",
      "53%\n",
      "57%\n",
      "60%\n",
      "63%\n",
      "67%\n",
      "70%\n",
      "73%\n",
      "77%\n",
      "80%\n",
      "83%\n",
      "87%\n",
      "90%\n",
      "93%\n",
      "97%\n",
      "100%\n",
      "Done\n"
     ]
    }
   ],
   "source": [
    "# Location of NRRD Files\n",
    "directory = (cwd + '/NRRD-Files/CTAT-002/')\n",
    "\n",
    "pic_folder = directory\n",
    "pic_folder = os.listdir(pic_folder)\n",
    "\n",
    "Dimension = 3\n",
    "PixelType = itk.ctype('float')\n",
    "ImageType = itk.Image[PixelType, Dimension]\n",
    "\n",
    "out = ImageType.New()\n",
    "\n",
    "start = itk.Index[Dimension]()\n",
    "start[0] = 0  \n",
    "start[1] = 0  \n",
    "start[2] = 0  \n",
    "\n",
    "pic_folder.sort()\n",
    "\n",
    "# Fixed Image\n",
    "img0 = itk.imread(directory + pic_folder[0])\n",
    "\n",
    "size = itk.Size[Dimension]()\n",
    "size[0] = itk.size(img0)[0]\n",
    "size[1] = itk.size(img0)[1]\n",
    "size[2] = itk.size(img0)[2]\n",
    "\n",
    "num_images = len(pic_folder)\n",
    "imgdatasize = np.zeros(4, dtype=int)\n",
    "imgdatasize[0] = num_images\n",
    "imgdatasize[1] = size[2]\n",
    "imgdatasize[2] = size[1]\n",
    "imgdatasize[3] = size[0]\n",
    "imgdata = np.zeros(imgdatasize)\n",
    "imgdata.shape\n",
    "        \n",
    "for image in range(num_images): \n",
    "    img = itk.imread(directory + pic_folder[image])\n",
    "    imgdata[image,:,:,:] = itk.GetArrayFromImage(img)\n",
    "\n",
    "    percent = (image + 1) / num_images * 100\n",
    "    print(str(round(percent)) + '%')\n",
    "\n",
    "print('Done')"
   ]
  },
  {
   "cell_type": "code",
   "execution_count": 6,
   "metadata": {
    "scrolled": false
   },
   "outputs": [],
   "source": [
    "outdata = imgdata.max(0).astype('h')\n",
    "\n",
    "out = itk.GetImageFromArray(outdata)\n",
    "out.CopyInformation(img0)\n",
    "final = itk.imwrite(out, (cwd + '/Composites/CTAT-002_MaxNoRegistration.nrrd'))\n",
    "\n",
    "print('Done')"
   ]
  },
  {
   "cell_type": "code",
   "execution_count": null,
   "metadata": {},
   "outputs": [],
   "source": []
  },
  {
   "cell_type": "code",
   "execution_count": null,
   "metadata": {},
   "outputs": [],
   "source": []
  },
  {
   "cell_type": "code",
   "execution_count": null,
   "metadata": {},
   "outputs": [],
   "source": []
  },
  {
   "cell_type": "code",
   "execution_count": null,
   "metadata": {},
   "outputs": [],
   "source": []
  },
  {
   "cell_type": "code",
   "execution_count": null,
   "metadata": {},
   "outputs": [],
   "source": []
  },
  {
   "cell_type": "code",
   "execution_count": null,
   "metadata": {},
   "outputs": [],
   "source": []
  },
  {
   "cell_type": "code",
   "execution_count": null,
   "metadata": {},
   "outputs": [],
   "source": []
  }
 ],
 "metadata": {
  "kernelspec": {
   "display_name": "Python 3",
   "language": "python",
   "name": "python3"
  },
  "language_info": {
   "codemirror_mode": {
    "name": "ipython",
    "version": 3
   },
   "file_extension": ".py",
   "mimetype": "text/x-python",
   "name": "python",
   "nbconvert_exporter": "python",
   "pygments_lexer": "ipython3",
   "version": "3.6.7"
  }
 },
 "nbformat": 4,
 "nbformat_minor": 2
}
