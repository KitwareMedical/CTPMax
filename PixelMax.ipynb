{
 "cells": [
  {
   "cell_type": "code",
   "execution_count": 1,
   "metadata": {},
   "outputs": [],
   "source": [
    "import numpy as np\n",
    "import pickle\n",
    "import sys\n",
    "import itk\n",
    "from itkTypes import itkCType\n",
    "import os"
   ]
  },
  {
   "cell_type": "code",
   "execution_count": 4,
   "metadata": {
    "scrolled": false
   },
   "outputs": [
    {
     "name": "stdout",
     "output_type": "stream",
     "text": [
      "10-VPCT-DynMulti4D-1.5-H20f-8.nrrd\n"
     ]
    },
    {
     "ename": "KeyboardInterrupt",
     "evalue": "",
     "output_type": "error",
     "traceback": [
      "\u001b[0;31m---------------------------------------------------------------------------\u001b[0m",
      "\u001b[0;31mKeyboardInterrupt\u001b[0m                         Traceback (most recent call last)",
      "\u001b[0;32m<ipython-input-4-e08fa9edc1ca>\u001b[0m in \u001b[0;36m<module>\u001b[0;34m\u001b[0m\n\u001b[1;32m     51\u001b[0m         \u001b[0moscmd\u001b[0m \u001b[0;34m=\u001b[0m \u001b[0;34m(\u001b[0m\u001b[0;34m'cp '\u001b[0m \u001b[0;34m+\u001b[0m \u001b[0mdirectory\u001b[0m \u001b[0;34m+\u001b[0m \u001b[0mpic_folder\u001b[0m\u001b[0;34m[\u001b[0m\u001b[0mimage\u001b[0m\u001b[0;34m]\u001b[0m \u001b[0;34m+\u001b[0m \u001b[0;34m' '\u001b[0m \u001b[0;34m+\u001b[0m \u001b[0mdirectory2\u001b[0m \u001b[0;34m+\u001b[0m \u001b[0mpic_folder\u001b[0m\u001b[0;34m[\u001b[0m\u001b[0mimage\u001b[0m\u001b[0;34m]\u001b[0m\u001b[0;34m)\u001b[0m\u001b[0;34m\u001b[0m\u001b[0;34m\u001b[0m\u001b[0m\n\u001b[1;32m     52\u001b[0m         \u001b[0mos\u001b[0m\u001b[0;34m.\u001b[0m\u001b[0msystem\u001b[0m\u001b[0;34m(\u001b[0m\u001b[0moscmd\u001b[0m\u001b[0;34m)\u001b[0m\u001b[0;34m\u001b[0m\u001b[0;34m\u001b[0m\u001b[0m\n\u001b[0;32m---> 53\u001b[0;31m     \u001b[0mimg\u001b[0m \u001b[0;34m=\u001b[0m \u001b[0mitk\u001b[0m\u001b[0;34m.\u001b[0m\u001b[0mimread\u001b[0m\u001b[0;34m(\u001b[0m\u001b[0mdirectory2\u001b[0m \u001b[0;34m+\u001b[0m \u001b[0mpic_folder\u001b[0m\u001b[0;34m[\u001b[0m\u001b[0mimage\u001b[0m\u001b[0;34m]\u001b[0m\u001b[0;34m)\u001b[0m\u001b[0;34m\u001b[0m\u001b[0;34m\u001b[0m\u001b[0m\n\u001b[0m\u001b[1;32m     54\u001b[0m     \u001b[0mimgdata\u001b[0m\u001b[0;34m[\u001b[0m\u001b[0mimage\u001b[0m\u001b[0;34m,\u001b[0m\u001b[0;34m:\u001b[0m\u001b[0;34m,\u001b[0m\u001b[0;34m:\u001b[0m\u001b[0;34m,\u001b[0m\u001b[0;34m:\u001b[0m\u001b[0;34m]\u001b[0m \u001b[0;34m=\u001b[0m \u001b[0mitk\u001b[0m\u001b[0;34m.\u001b[0m\u001b[0mGetArrayFromImage\u001b[0m\u001b[0;34m(\u001b[0m\u001b[0mimg\u001b[0m\u001b[0;34m)\u001b[0m\u001b[0;34m\u001b[0m\u001b[0;34m\u001b[0m\u001b[0m\n\u001b[1;32m     55\u001b[0m \u001b[0;34m\u001b[0m\u001b[0m\n",
      "\u001b[0;32m~/env/lib/python3.6/site-packages/itkExtras.py\u001b[0m in \u001b[0;36mimread\u001b[0;34m(filename, pixel_type, fallback_only)\u001b[0m\n\u001b[1;32m    571\u001b[0m     \u001b[0;32melse\u001b[0m\u001b[0;34m:\u001b[0m\u001b[0;34m\u001b[0m\u001b[0;34m\u001b[0m\u001b[0m\n\u001b[1;32m    572\u001b[0m         \u001b[0mreader\u001b[0m \u001b[0;34m=\u001b[0m \u001b[0mTemplateReaderType\u001b[0m\u001b[0;34m.\u001b[0m\u001b[0mNew\u001b[0m\u001b[0;34m(\u001b[0m\u001b[0;34m**\u001b[0m\u001b[0mkwargs\u001b[0m\u001b[0;34m)\u001b[0m\u001b[0;34m\u001b[0m\u001b[0;34m\u001b[0m\u001b[0m\n\u001b[0;32m--> 573\u001b[0;31m     \u001b[0mreader\u001b[0m\u001b[0;34m.\u001b[0m\u001b[0mUpdate\u001b[0m\u001b[0;34m(\u001b[0m\u001b[0;34m)\u001b[0m\u001b[0;34m\u001b[0m\u001b[0;34m\u001b[0m\u001b[0m\n\u001b[0m\u001b[1;32m    574\u001b[0m     \u001b[0;32mreturn\u001b[0m \u001b[0mreader\u001b[0m\u001b[0;34m.\u001b[0m\u001b[0mGetOutput\u001b[0m\u001b[0;34m(\u001b[0m\u001b[0;34m)\u001b[0m\u001b[0;34m\u001b[0m\u001b[0;34m\u001b[0m\u001b[0m\n\u001b[1;32m    575\u001b[0m \u001b[0;34m\u001b[0m\u001b[0m\n",
      "\u001b[0;31mKeyboardInterrupt\u001b[0m: "
     ]
    }
   ],
   "source": [
    "# NRRD Files\n",
    "directory = '/home/will.dolan/Desktop/Jupyter/CTAandCTP/NRRD-Files/CTAT-006/'\n",
    "\n",
    "# Saved NRRD Files\n",
    "directory2 = '/home/will.dolan/Desktop/Jupyter/CTAandCTP/NRRD-Files/CTAT-006-Reg2/'\n",
    "\n",
    "# Mask Name and Location\n",
    "MASK_DIRECTORY = '/home/will.dolan/Desktop/Jupyter/CTAandCTP/NRRD-Files/CTAT-006/mask2.mha'\n",
    "\n",
    "# ITKTubeTK binary location\n",
    "tubetk = '/home/will.dolan/src/ITKTubeTK-Release/bin/RegisterImages'\n",
    "\n",
    "pic_folder = directory\n",
    "pic_folder = os.listdir(pic_folder)\n",
    "\n",
    "Dimension = 3\n",
    "PixelType = itk.ctype('float')\n",
    "ImageType = itk.Image[PixelType, Dimension]\n",
    "\n",
    "out = ImageType.New()\n",
    "\n",
    "start = itk.Index[Dimension]()\n",
    "start[0] = 0  \n",
    "start[1] = 0  \n",
    "start[2] = 0  \n",
    "\n",
    "pic_folder.sort()\n",
    "img0 = itk.imread(directory + pic_folder[0])\n",
    "\n",
    "size = itk.Size[Dimension]()\n",
    "size[0] = itk.size(img0)[0]\n",
    "size[1] = itk.size(img0)[1]\n",
    "size[2] = itk.size(img0)[2]\n",
    "\n",
    "\n",
    "num_images = len(pic_folder)\n",
    "\n",
    "imgdatasize = np.zeros(4, dtype=int)\n",
    "imgdatasize[0] = num_images\n",
    "imgdatasize[1] = size[2]\n",
    "imgdatasize[2] = size[1]\n",
    "imgdatasize[3] = size[0]\n",
    "imgdata = np.zeros(imgdatasize)\n",
    "imgdata.shape\n",
    "        \n",
    "for image in range(num_images):\n",
    "    if image != 0:\n",
    "        oscmd = (tubetk + ' ' + directory + pic_folder[0] + ' ' + directory + pic_folder[image] + ' --resampledImage ' + directory2 + pic_folder[image] + ' --rigidMaxIterations 3000 --registration Rigid --metric MeanSqrd --fixedImageMask ' + MASK_DIRECTORY + ' --sampleFromOverlap')\n",
    "        os.system(oscmd)\n",
    "    else:\n",
    "        oscmd = ('cp ' + directory + pic_folder[image] + ' ' + directory2 + pic_folder[image])\n",
    "        os.system(oscmd)\n",
    "    img = itk.imread(directory2 + pic_folder[image])\n",
    "    imgdata[image,:,:,:] = itk.GetArrayFromImage(img)\n",
    "\n",
    "\n",
    "    print(pic_folder[image])"
   ]
  },
  {
   "cell_type": "code",
   "execution_count": null,
   "metadata": {},
   "outputs": [],
   "source": [
    "outdata = imgdata.max(0).astype('h')\n",
    "\n",
    "out = itk.GetImageFromArray(outdata)\n",
    "out.CopyInformation(img0)\n",
    "final = itk.imwrite(out, '/home/will.dolan/Desktop/Jupyter/CTAandCTP/Composites/CTAT-006_Max(mask2).nrrd')\n",
    "\n",
    "    "
   ]
  }
 ],
 "metadata": {
  "kernelspec": {
   "display_name": "Python 3",
   "language": "python",
   "name": "python3"
  },
  "language_info": {
   "codemirror_mode": {
    "name": "ipython",
    "version": 3
   },
   "file_extension": ".py",
   "mimetype": "text/x-python",
   "name": "python",
   "nbconvert_exporter": "python",
   "pygments_lexer": "ipython3",
   "version": "3.6.7"
  }
 },
 "nbformat": 4,
 "nbformat_minor": 2
}
