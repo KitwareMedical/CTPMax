{
 "cells": [
  {
   "cell_type": "code",
   "execution_count": 2,
   "metadata": {},
   "outputs": [
    {
     "data": {
      "text/plain": [
       "'/home/will.dolan/Desktop/CTAandCTP'"
      ]
     },
     "execution_count": 2,
     "metadata": {},
     "output_type": "execute_result"
    }
   ],
   "source": [
    "import numpy as np\n",
    "import sys\n",
    "import itk\n",
    "import os\n",
    "\n",
    "cwd = os.getcwd()\n",
    "cwd"
   ]
  },
  {
   "cell_type": "code",
   "execution_count": null,
   "metadata": {},
   "outputs": [],
   "source": [
    "# Directories if not yet made\n",
    "os.system('mkdir Masks')\n",
    "os.system('mkdir NRRD-Files')"
   ]
  },
  {
   "cell_type": "code",
   "execution_count": 13,
   "metadata": {
    "scrolled": true
   },
   "outputs": [
    {
     "name": "stdout",
     "output_type": "stream",
     "text": [
      "mask13\n",
      "3%\n",
      "5%\n",
      "8%\n",
      "10%\n",
      "13%\n",
      "15%\n",
      "18%\n",
      "21%\n",
      "23%\n",
      "26%\n",
      "28%\n",
      "31%\n",
      "33%\n",
      "36%\n",
      "38%\n",
      "41%\n",
      "44%\n",
      "46%\n",
      "49%\n",
      "51%\n",
      "54%\n",
      "56%\n",
      "59%\n",
      "62%\n",
      "64%\n",
      "67%\n",
      "69%\n",
      "72%\n",
      "74%\n",
      "77%\n",
      "79%\n",
      "82%\n",
      "85%\n",
      "87%\n",
      "90%\n",
      "92%\n",
      "95%\n",
      "97%\n",
      "100%\n",
      "Done\n"
     ]
    }
   ],
   "source": [
    "# NRRD Files\n",
    "directory = (cwd + '/NRRD-Files/CC012-CTP-Frames/')\n",
    "\n",
    "# Saved NRRD Files\n",
    "directory2 = (cwd + '/NRRD-Files/CC012-Frames-Reg/')\n",
    "\n",
    "\n",
    "pic_folder = directory\n",
    "pic_folder = os.listdir(pic_folder)\n",
    "\n",
    "\n",
    "# Mask Creation and Location\n",
    "MASK_DIRECTORY = (cwd + '/Masks/')\n",
    "mask_num = len(os.listdir(MASK_DIRECTORY)) + 1\n",
    "os.system('~/src/ITKTubeTK-Release/bin/ImageMath ' + directory + pic_folder[0] + ' -t 100 5000 1 0 -M 1 10 1 0 -W 0 ' + MASK_DIRECTORY + 'mask' + str(mask_num) + '.mha')\n",
    "print('mask' + str(mask_num))\n",
    "\n",
    "# ITKTubeTK binary location\n",
    "tubetk = '/home/will.dolan/src/ITKTubeTK-Release/bin/RegisterImages'\n",
    "\n",
    "\n",
    "Dimension = 3\n",
    "PixelType = itk.ctype('float')\n",
    "ImageType = itk.Image[PixelType, Dimension]\n",
    "\n",
    "out = ImageType.New()\n",
    "\n",
    "start = itk.Index[Dimension]()\n",
    "start[0] = 0  \n",
    "start[1] = 0  \n",
    "start[2] = 0  \n",
    "\n",
    "pic_folder.sort()\n",
    "\n",
    "img0 = itk.imread(directory + pic_folder[0])\n",
    "\n",
    "size = itk.Size[Dimension]()\n",
    "size[0] = itk.size(img0)[0]\n",
    "size[1] = itk.size(img0)[1]\n",
    "size[2] = itk.size(img0)[2]\n",
    "\n",
    "num_images = len(pic_folder)\n",
    "\n",
    "imgdatasize = np.zeros(4, dtype=int)\n",
    "imgdatasize[0] = num_images\n",
    "imgdatasize[1] = size[2]\n",
    "imgdatasize[2] = size[1]\n",
    "imgdatasize[3] = size[0]\n",
    "imgdata = np.zeros(imgdatasize)\n",
    "imgdata.shape\n",
    "        \n",
    "for image in range(num_images):\n",
    "    if image != 0:\n",
    "        oscmd = (tubetk + ' ' + directory + pic_folder[0] + ' ' + directory + pic_folder[image] + ' --resampledImage ' + directory2 + pic_folder[image] + ' --rigidMaxIterations 3000 --registration Rigid --metric MeanSqrd --fixedImageMask ' + MASK_DIRECTORY + 'mask5.mha --sampleFromOverlap')\n",
    "        os.system(oscmd)\n",
    "    else:\n",
    "        oscmd = ('cp ' + directory + pic_folder[image] + ' ' + directory2 + pic_folder[image])\n",
    "        os.system(oscmd)\n",
    "    img = itk.imread(directory2 + pic_folder[image])\n",
    "    imgdata[image,:,:,:] = itk.GetArrayFromImage(img)\n",
    "\n",
    "    percent = (image + 1) / num_images * 100\n",
    "    print(str(round(percent)) + '%')\n",
    "    \n",
    "print('Done')    "
   ]
  },
  {
   "cell_type": "code",
   "execution_count": 14,
   "metadata": {},
   "outputs": [],
   "source": [
    "outdata = imgdata.max(0).astype('h')\n",
    "\n",
    "out = itk.GetImageFromArray(outdata)\n",
    "out.CopyInformation(img0)\n",
    "final = itk.imwrite(out, (cwd + '/Composites/CC012-Max.nrrd'))\n",
    "\n",
    "print('Done')"
   ]
  },
  {
   "cell_type": "code",
   "execution_count": null,
   "metadata": {},
   "outputs": [],
   "source": []
  }
 ],
 "metadata": {
  "kernelspec": {
   "display_name": "Python 3",
   "language": "python",
   "name": "python3"
  },
  "language_info": {
   "codemirror_mode": {
    "name": "ipython",
    "version": 3
   },
   "file_extension": ".py",
   "mimetype": "text/x-python",
   "name": "python",
   "nbconvert_exporter": "python",
   "pygments_lexer": "ipython3",
   "version": "3.6.7"
  }
 },
 "nbformat": 4,
 "nbformat_minor": 2
}
