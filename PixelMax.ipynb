{
 "cells": [
  {
   "cell_type": "code",
   "execution_count": 2,
   "metadata": {},
   "outputs": [
    {
     "data": {
      "text/plain": [
       "'/home/will.dolan/Desktop/Jupyter/CTAandCTP'"
      ]
     },
     "execution_count": 2,
     "metadata": {},
     "output_type": "execute_result"
    }
   ],
   "source": [
    "import numpy as np\n",
    "import sys\n",
    "import itk\n",
    "import os\n",
    "\n",
    "cwd = os.getcwd()\n",
    "cwd"
   ]
  },
  {
   "cell_type": "code",
   "execution_count": 14,
   "metadata": {
    "scrolled": true
   },
   "outputs": [
    {
     "name": "stdout",
     "output_type": "stream",
     "text": [
      "VPCT-Volume-perf-4D-5.0-H20f-as-a-39-frames-MultiVolume-by-ImagePositionPatientAcquisitionTime-copied-frame-0.nrrd\n",
      "VPCT-Volume-perf-4D-5.0-H20f-as-a-39-frames-MultiVolume-by-ImagePositionPatientAcquisitionTime-copied-frame-1.nrrd\n",
      "VPCT-Volume-perf-4D-5.0-H20f-as-a-39-frames-MultiVolume-by-ImagePositionPatientAcquisitionTime-copied-frame-10.nrrd\n",
      "VPCT-Volume-perf-4D-5.0-H20f-as-a-39-frames-MultiVolume-by-ImagePositionPatientAcquisitionTime-copied-frame-11.nrrd\n",
      "VPCT-Volume-perf-4D-5.0-H20f-as-a-39-frames-MultiVolume-by-ImagePositionPatientAcquisitionTime-copied-frame-12.nrrd\n",
      "VPCT-Volume-perf-4D-5.0-H20f-as-a-39-frames-MultiVolume-by-ImagePositionPatientAcquisitionTime-copied-frame-13.nrrd\n",
      "VPCT-Volume-perf-4D-5.0-H20f-as-a-39-frames-MultiVolume-by-ImagePositionPatientAcquisitionTime-copied-frame-14.nrrd\n",
      "VPCT-Volume-perf-4D-5.0-H20f-as-a-39-frames-MultiVolume-by-ImagePositionPatientAcquisitionTime-copied-frame-15.nrrd\n",
      "VPCT-Volume-perf-4D-5.0-H20f-as-a-39-frames-MultiVolume-by-ImagePositionPatientAcquisitionTime-copied-frame-16.nrrd\n",
      "VPCT-Volume-perf-4D-5.0-H20f-as-a-39-frames-MultiVolume-by-ImagePositionPatientAcquisitionTime-copied-frame-17.nrrd\n",
      "VPCT-Volume-perf-4D-5.0-H20f-as-a-39-frames-MultiVolume-by-ImagePositionPatientAcquisitionTime-copied-frame-18.nrrd\n",
      "VPCT-Volume-perf-4D-5.0-H20f-as-a-39-frames-MultiVolume-by-ImagePositionPatientAcquisitionTime-copied-frame-19.nrrd\n",
      "VPCT-Volume-perf-4D-5.0-H20f-as-a-39-frames-MultiVolume-by-ImagePositionPatientAcquisitionTime-copied-frame-2.nrrd\n",
      "VPCT-Volume-perf-4D-5.0-H20f-as-a-39-frames-MultiVolume-by-ImagePositionPatientAcquisitionTime-copied-frame-20.nrrd\n",
      "VPCT-Volume-perf-4D-5.0-H20f-as-a-39-frames-MultiVolume-by-ImagePositionPatientAcquisitionTime-copied-frame-21.nrrd\n",
      "VPCT-Volume-perf-4D-5.0-H20f-as-a-39-frames-MultiVolume-by-ImagePositionPatientAcquisitionTime-copied-frame-22.nrrd\n",
      "VPCT-Volume-perf-4D-5.0-H20f-as-a-39-frames-MultiVolume-by-ImagePositionPatientAcquisitionTime-copied-frame-23.nrrd\n",
      "VPCT-Volume-perf-4D-5.0-H20f-as-a-39-frames-MultiVolume-by-ImagePositionPatientAcquisitionTime-copied-frame-24.nrrd\n",
      "VPCT-Volume-perf-4D-5.0-H20f-as-a-39-frames-MultiVolume-by-ImagePositionPatientAcquisitionTime-copied-frame-25.nrrd\n",
      "VPCT-Volume-perf-4D-5.0-H20f-as-a-39-frames-MultiVolume-by-ImagePositionPatientAcquisitionTime-copied-frame-26.nrrd\n",
      "VPCT-Volume-perf-4D-5.0-H20f-as-a-39-frames-MultiVolume-by-ImagePositionPatientAcquisitionTime-copied-frame-27.nrrd\n",
      "VPCT-Volume-perf-4D-5.0-H20f-as-a-39-frames-MultiVolume-by-ImagePositionPatientAcquisitionTime-copied-frame-28.nrrd\n",
      "VPCT-Volume-perf-4D-5.0-H20f-as-a-39-frames-MultiVolume-by-ImagePositionPatientAcquisitionTime-copied-frame-29.nrrd\n",
      "VPCT-Volume-perf-4D-5.0-H20f-as-a-39-frames-MultiVolume-by-ImagePositionPatientAcquisitionTime-copied-frame-3.nrrd\n",
      "VPCT-Volume-perf-4D-5.0-H20f-as-a-39-frames-MultiVolume-by-ImagePositionPatientAcquisitionTime-copied-frame-30.nrrd\n",
      "VPCT-Volume-perf-4D-5.0-H20f-as-a-39-frames-MultiVolume-by-ImagePositionPatientAcquisitionTime-copied-frame-31.nrrd\n",
      "VPCT-Volume-perf-4D-5.0-H20f-as-a-39-frames-MultiVolume-by-ImagePositionPatientAcquisitionTime-copied-frame-32.nrrd\n",
      "VPCT-Volume-perf-4D-5.0-H20f-as-a-39-frames-MultiVolume-by-ImagePositionPatientAcquisitionTime-copied-frame-33.nrrd\n",
      "VPCT-Volume-perf-4D-5.0-H20f-as-a-39-frames-MultiVolume-by-ImagePositionPatientAcquisitionTime-copied-frame-34.nrrd\n",
      "VPCT-Volume-perf-4D-5.0-H20f-as-a-39-frames-MultiVolume-by-ImagePositionPatientAcquisitionTime-copied-frame-35.nrrd\n",
      "VPCT-Volume-perf-4D-5.0-H20f-as-a-39-frames-MultiVolume-by-ImagePositionPatientAcquisitionTime-copied-frame-36.nrrd\n",
      "VPCT-Volume-perf-4D-5.0-H20f-as-a-39-frames-MultiVolume-by-ImagePositionPatientAcquisitionTime-copied-frame-37.nrrd\n",
      "VPCT-Volume-perf-4D-5.0-H20f-as-a-39-frames-MultiVolume-by-ImagePositionPatientAcquisitionTime-copied-frame-38.nrrd\n",
      "VPCT-Volume-perf-4D-5.0-H20f-as-a-39-frames-MultiVolume-by-ImagePositionPatientAcquisitionTime-copied-frame-4.nrrd\n",
      "VPCT-Volume-perf-4D-5.0-H20f-as-a-39-frames-MultiVolume-by-ImagePositionPatientAcquisitionTime-copied-frame-5.nrrd\n",
      "VPCT-Volume-perf-4D-5.0-H20f-as-a-39-frames-MultiVolume-by-ImagePositionPatientAcquisitionTime-copied-frame-6.nrrd\n",
      "VPCT-Volume-perf-4D-5.0-H20f-as-a-39-frames-MultiVolume-by-ImagePositionPatientAcquisitionTime-copied-frame-7.nrrd\n",
      "VPCT-Volume-perf-4D-5.0-H20f-as-a-39-frames-MultiVolume-by-ImagePositionPatientAcquisitionTime-copied-frame-8.nrrd\n",
      "VPCT-Volume-perf-4D-5.0-H20f-as-a-39-frames-MultiVolume-by-ImagePositionPatientAcquisitionTime-copied-frame-9.nrrd\n"
     ]
    }
   ],
   "source": [
    "# NRRD Files\n",
    "directory = (cwd + '/NRRD-Files/CC012-CTP-Frames/')\n",
    "\n",
    "# Saved NRRD Files\n",
    "directory2 = (cwd + '/NRRD-Files/CC012-Frames-Reg/')\n",
    "\n",
    "# Mask Creation and Location\n",
    "MASK_DIRECTORY = (cwd + '/NRRD-Files/Masks/')\n",
    "mask_num = len(os.listdir(MASK_DIRECTORY)) + 1\n",
    "os.system('~/src/ITKTubeTK-Release/bin/ImageMath ' + directory + pic_folder[0] + ' -t 100 5000 1 0 -M 1 10 1 0 -W 0 ' + MASK_DIRECTORY + 'mask' + str(mask_num) + '.mha')\n",
    "print('mask' + str(mask_num))\n",
    "\n",
    "# ITKTubeTK binary location\n",
    "tubetk = '/home/will.dolan/src/ITKTubeTK-Release/bin/RegisterImages'\n",
    "\n",
    "pic_folder = directory\n",
    "pic_folder = os.listdir(pic_folder)\n",
    "\n",
    "Dimension = 3\n",
    "PixelType = itk.ctype('float')\n",
    "ImageType = itk.Image[PixelType, Dimension]\n",
    "\n",
    "out = ImageType.New()\n",
    "\n",
    "start = itk.Index[Dimension]()\n",
    "start[0] = 0  \n",
    "start[1] = 0  \n",
    "start[2] = 0  \n",
    "\n",
    "pic_folder.sort()\n",
    "\n",
    "img0 = itk.imread(directory + pic_folder[0])\n",
    "\n",
    "size = itk.Size[Dimension]()\n",
    "size[0] = itk.size(img0)[0]\n",
    "size[1] = itk.size(img0)[1]\n",
    "size[2] = itk.size(img0)[2]\n",
    "\n",
    "num_images = len(pic_folder)\n",
    "\n",
    "imgdatasize = np.zeros(4, dtype=int)\n",
    "imgdatasize[0] = num_images\n",
    "imgdatasize[1] = size[2]\n",
    "imgdatasize[2] = size[1]\n",
    "imgdatasize[3] = size[0]\n",
    "imgdata = np.zeros(imgdatasize)\n",
    "imgdata.shape\n",
    "        \n",
    "for image in range(num_images):\n",
    "    if image != 0:\n",
    "        oscmd = (tubetk + ' ' + directory + pic_folder[0] + ' ' + directory + pic_folder[image] + ' --resampledImage ' + directory2 + pic_folder[image] + ' --rigidMaxIterations 3000 --registration Rigid --metric MeanSqrd --fixedImageMask ' + MASK_DIRECTORY + 'mask5.mha --sampleFromOverlap')\n",
    "        os.system(oscmd)\n",
    "    else:\n",
    "        oscmd = ('cp ' + directory + pic_folder[image] + ' ' + directory2 + pic_folder[image])\n",
    "        os.system(oscmd)\n",
    "    img = itk.imread(directory2 + pic_folder[image])\n",
    "    imgdata[image,:,:,:] = itk.GetArrayFromImage(img)\n",
    "\n",
    "\n",
    "    print(pic_folder[image])\n",
    "    "
   ]
  },
  {
   "cell_type": "code",
   "execution_count": 15,
   "metadata": {},
   "outputs": [],
   "source": [
    "outdata = imgdata.max(0).astype('h')\n",
    "\n",
    "out = itk.GetImageFromArray(outdata)\n",
    "out.CopyInformation(img0)\n",
    "final = itk.imwrite(out, (cwd + '/Composites/CC012-Max.nrrd'))"
   ]
  },
  {
   "cell_type": "code",
   "execution_count": null,
   "metadata": {},
   "outputs": [],
   "source": []
  },
  {
   "cell_type": "code",
   "execution_count": null,
   "metadata": {},
   "outputs": [],
   "source": []
  }
 ],
 "metadata": {
  "kernelspec": {
   "display_name": "Python 3",
   "language": "python",
   "name": "python3"
  },
  "language_info": {
   "codemirror_mode": {
    "name": "ipython",
    "version": 3
   },
   "file_extension": ".py",
   "mimetype": "text/x-python",
   "name": "python",
   "nbconvert_exporter": "python",
   "pygments_lexer": "ipython3",
   "version": "3.6.7"
  }
 },
 "nbformat": 4,
 "nbformat_minor": 2
}
